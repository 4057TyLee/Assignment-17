{
 "cells": [
  {
   "cell_type": "code",
   "execution_count": null,
   "id": "86133c33-98df-468c-a107-ac021fbc6774",
   "metadata": {},
   "outputs": [],
   "source": [
    "#Count the number of each letter in a sentence."
   ]
  },
  {
   "cell_type": "code",
   "execution_count": null,
   "id": "71bd59b1-2fa4-4c70-b8ee-44f4ba8e9931",
   "metadata": {},
   "outputs": [],
   "source": [
    "#hippo runs to us!\n",
    "#output:\n",
    "\n",
    "# {'s': 2, 'r': 1, 't': 1, 'h': 1, 'n': 1, \n",
    "# 'i': 1, 'u': 2, 'o': 2, 'p': 2, ' ': 3, '!': 1}"
   ]
  },
  {
   "cell_type": "code",
   "execution_count": 1,
   "id": "8ee59b45-76ef-4fc0-925b-80fae5d1c96c",
   "metadata": {},
   "outputs": [
    {
     "name": "stdin",
     "output_type": "stream",
     "text": [
      "write your sentence please : I believe you can do this exercise better\n"
     ]
    },
    {
     "name": "stdout",
     "output_type": "stream",
     "text": [
      "{'I': 1, ' ': 7, 'b': 2, 'e': 8, 'l': 1, 'i': 3, 'v': 1, 'y': 1, 'o': 2, 'u': 1, 'c': 2, 'a': 1, 'n': 1, 'd': 1, 't': 3, 'h': 1, 's': 2, 'x': 1, 'r': 2}\n"
     ]
    }
   ],
   "source": [
    "sentence = input(\"write your sentence please :\")\n",
    "letters={}\n",
    "for i in sentence :\n",
    "    if i in letters :\n",
    "        letters[i] += 1\n",
    "    else:\n",
    "        letters[i] =  1\n",
    "print(letters)"
   ]
  },
  {
   "cell_type": "code",
   "execution_count": null,
   "id": "a02f0d74-de98-411d-9402-9fb7093561e7",
   "metadata": {},
   "outputs": [],
   "source": []
  }
 ],
 "metadata": {
  "kernelspec": {
   "display_name": "Python 3 (ipykernel)",
   "language": "python",
   "name": "python3"
  },
  "language_info": {
   "codemirror_mode": {
    "name": "ipython",
    "version": 3
   },
   "file_extension": ".py",
   "mimetype": "text/x-python",
   "name": "python",
   "nbconvert_exporter": "python",
   "pygments_lexer": "ipython3",
   "version": "3.9.12"
  }
 },
 "nbformat": 4,
 "nbformat_minor": 5
}
